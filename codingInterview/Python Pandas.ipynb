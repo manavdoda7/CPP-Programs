{
 "metadata": {
  "language_info": {
   "codemirror_mode": {
    "name": "ipython",
    "version": 3
   },
   "file_extension": ".py",
   "mimetype": "text/x-python",
   "name": "python",
   "nbconvert_exporter": "python",
   "pygments_lexer": "ipython3",
   "version": "3.7.6-final"
  },
  "orig_nbformat": 2,
  "kernelspec": {
   "name": "python3",
   "display_name": "Python 3"
  }
 },
 "nbformat": 4,
 "nbformat_minor": 2,
 "cells": [
  {
   "cell_type": "code",
   "execution_count": 2,
   "metadata": {
    "tags": []
   },
   "outputs": [],
   "source": [
    "import pandas as pd\n",
    "\n"
   ]
  },
  {
   "cell_type": "code",
   "execution_count": 5,
   "metadata": {
    "tags": []
   },
   "outputs": [
    {
     "output_type": "stream",
     "name": "stdout",
     "text": "a   b\na  1.0   3\nb  2.0   5\nc  3.0  56\nd  NaN  45\ne  NaN  67\n\n\ncol_name , Row no\n1.0\n"
    }
   ],
   "source": [
    "dic= { 'a':1,'b':2,'c':3}\n",
    "dict1= {'a':3,'b':5, 'c':56,'d':45,'e':67}\n",
    "\n",
    "data= {'a':dic,'b':dict1}\n",
    "df= pd.DataFrame(data)\n",
    "print(df)\n",
    "\n",
    "print(\"\\n\")\n",
    "\n",
    "print(\"col_name , Row no\")\n",
    "print(df['a'][0])\n",
    "print(df.a[0])"
   ]
  },
  {
   "cell_type": "code",
   "execution_count": null,
   "metadata": {},
   "outputs": [],
   "source": [
    "# What is Dataframe?\n",
    "\n",
    "# DataFrame is a two dimensional datastructure defined in pandas which consist of rows and columns\n",
    "\n",
    "# Accessing Subset\n",
    "# *** Access a row  :- print(df.loc[0,:])\n",
    "# Multiple row: - print(df.loc[0:1,:])\n",
    "# Mulitple col:- print(df.loc[:,'a':'b'])\n",
    "# Range of Col from Range of Rows: print(df.loc[1:2,'a':'b']) ***"
   ]
  }
 ]
}